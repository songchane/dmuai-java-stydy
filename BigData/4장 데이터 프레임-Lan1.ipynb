{
 "cells": [
  {
   "cell_type": "markdown",
   "id": "e3457800",
   "metadata": {},
   "source": [
    "### Data Frame\n",
    "- Pandas는 라벨이 붙어있는 2차원 배열(DataFrame)이나 1차원 배열(Series)을 다루는 도구\n",
    "- 2차원 배열(Data Frame)의 행에 붙어 있는 라벨을 index(인덱스)라 부름\n",
    "- 2차원 배열(Data Frame)의 열에 붙어 있는 라벨을 colums(컬럼) 또는 변수라 부름\n",
    "- 1차원 배열에는 행에만 라벨이 붙어 있고, 이를 index(인덱스)라고 부름"
   ]
  },
  {
   "cell_type": "markdown",
   "id": "8d276b02",
   "metadata": {},
   "source": [
    "# Lab 1: 시험 성적 데이터로 데이터 프레임 만들기\n",
    "- import pandas:Pandas를 사용하기 위해서는 pandas 패키지를 로드해야 함\n",
    "- 인덱스가 [0, 1, 2, 3]이고 칼럼이 ['name', 'english', 'math']인 데이터 프레임을 생성해 봄\n",
    "- 생성한 데이터 프레임의 이름은 df를 사용\n",
    "- 데이터 프레임 생성시 [enter]로 줄바꿈 가능\n",
    "- 별도로 인덱스를 지정하지 않으면 인덱스는 숫자 0부터 부여됨\n"
   ]
  },
  {
   "cell_type": "code",
   "execution_count": 20,
   "id": "9e54bd41",
   "metadata": {},
   "outputs": [],
   "source": [
    "# Pandas를 사용하기 위해서는 pandas 패키지를 로드\n",
    "import pandas as pd"
   ]
  },
  {
   "cell_type": "code",
   "execution_count": 21,
   "id": "b773fd0e",
   "metadata": {},
   "outputs": [
    {
     "data": {
      "text/html": [
       "<div>\n",
       "<style scoped>\n",
       "    .dataframe tbody tr th:only-of-type {\n",
       "        vertical-align: middle;\n",
       "    }\n",
       "\n",
       "    .dataframe tbody tr th {\n",
       "        vertical-align: top;\n",
       "    }\n",
       "\n",
       "    .dataframe thead th {\n",
       "        text-align: right;\n",
       "    }\n",
       "</style>\n",
       "<table border=\"1\" class=\"dataframe\">\n",
       "  <thead>\n",
       "    <tr style=\"text-align: right;\">\n",
       "      <th></th>\n",
       "      <th>name</th>\n",
       "      <th>english</th>\n",
       "      <th>math</th>\n",
       "    </tr>\n",
       "  </thead>\n",
       "  <tbody>\n",
       "    <tr>\n",
       "      <th>0</th>\n",
       "      <td>김기훈</td>\n",
       "      <td>90</td>\n",
       "      <td>50</td>\n",
       "    </tr>\n",
       "    <tr>\n",
       "      <th>1</th>\n",
       "      <td>이유진</td>\n",
       "      <td>80</td>\n",
       "      <td>60</td>\n",
       "    </tr>\n",
       "    <tr>\n",
       "      <th>2</th>\n",
       "      <td>박동현</td>\n",
       "      <td>60</td>\n",
       "      <td>100</td>\n",
       "    </tr>\n",
       "    <tr>\n",
       "      <th>3</th>\n",
       "      <td>김민지</td>\n",
       "      <td>70</td>\n",
       "      <td>20</td>\n",
       "    </tr>\n",
       "  </tbody>\n",
       "</table>\n",
       "</div>"
      ],
      "text/plain": [
       "  name  english  math\n",
       "0  김기훈       90    50\n",
       "1  이유진       80    60\n",
       "2  박동현       60   100\n",
       "3  김민지       70    20"
      ]
     },
     "execution_count": 21,
     "metadata": {},
     "output_type": "execute_result"
    }
   ],
   "source": [
    "# Data Frame을 새로 생성 (name, english, math의 3개 컬럼(번수)으로 구성)\n",
    "df1 = pd.DataFrame({'name':['김기훈', '이유진', '박동현', '김민지'],\n",
    "                   'english': [90, 80, 60, 70],\n",
    "                   'math': [50, 60, 100, 20]})\n",
    "\n",
    "# 생성한 Data Frame df1으로 출력\n",
    "df1"
   ]
  },
  {
   "cell_type": "markdown",
   "id": "692078a3",
   "metadata": {},
   "source": [
    "> 데이터 프레임으로 분석하기"
   ]
  },
  {
   "cell_type": "code",
   "execution_count": 3,
   "id": "e94c8ab0",
   "metadata": {},
   "outputs": [
    {
     "data": {
      "text/plain": [
       "RangeIndex(start=0, stop=4, step=1)"
      ]
     },
     "execution_count": 3,
     "metadata": {},
     "output_type": "execute_result"
    }
   ],
   "source": [
    "# Data Frame df1의 값 확인\n",
    "df1.index"
   ]
  },
  {
   "cell_type": "code",
   "execution_count": 4,
   "id": "a57206ab",
   "metadata": {},
   "outputs": [
    {
     "data": {
      "text/plain": [
       "Index(['name', 'english', 'math'], dtype='object')"
      ]
     },
     "execution_count": 4,
     "metadata": {},
     "output_type": "execute_result"
    }
   ],
   "source": [
    "# Data Frame df1의 칼럼(변수) 값 확인\n",
    "df1.columns"
   ]
  },
  {
   "cell_type": "code",
   "execution_count": 5,
   "id": "ac671e70",
   "metadata": {},
   "outputs": [
    {
     "data": {
      "text/plain": [
       "array([['김기훈', 90, 50],\n",
       "       ['이유진', 80, 60],\n",
       "       ['박동현', 60, 100],\n",
       "       ['김민지', 70, 20]], dtype=object)"
      ]
     },
     "execution_count": 5,
     "metadata": {},
     "output_type": "execute_result"
    }
   ],
   "source": [
    "# Data Frame df1의 값을 확인 (nempy의 array)로 출력\n",
    "df1.values"
   ]
  },
  {
   "cell_type": "code",
   "execution_count": 23,
   "id": "5c393eb7",
   "metadata": {},
   "outputs": [
    {
     "data": {
      "text/plain": [
       "0     50\n",
       "1     60\n",
       "2    100\n",
       "3     20\n",
       "Name: math, dtype: int64"
      ]
     },
     "execution_count": 23,
     "metadata": {},
     "output_type": "execute_result"
    }
   ],
   "source": [
    "# 컬럼 math 추출 (시리즈)\n",
    "s1 = df1['math']\n",
    "s1"
   ]
  },
  {
   "cell_type": "code",
   "execution_count": 8,
   "id": "8f6ce6fd",
   "metadata": {},
   "outputs": [
    {
     "data": {
      "text/plain": [
       "230"
      ]
     },
     "execution_count": 8,
     "metadata": {},
     "output_type": "execute_result"
    }
   ],
   "source": [
    "# df1에서 컬럼 math의 합 계산\n",
    "sum(df1['math'])"
   ]
  },
  {
   "cell_type": "code",
   "execution_count": 10,
   "id": "0e1a7e68",
   "metadata": {},
   "outputs": [
    {
     "data": {
      "text/plain": [
       "300"
      ]
     },
     "execution_count": 10,
     "metadata": {},
     "output_type": "execute_result"
    }
   ],
   "source": [
    "# df1에서 컬럼 english의 평균 값 계산\n",
    "sum(df1['english'])/4"
   ]
  },
  {
   "cell_type": "code",
   "execution_count": 11,
   "id": "95588f3a",
   "metadata": {},
   "outputs": [
    {
     "data": {
      "text/plain": [
       "230"
      ]
     },
     "execution_count": 11,
     "metadata": {},
     "output_type": "execute_result"
    }
   ],
   "source": [
    "# df1에서 컬럼 math의 합 계산\n",
    "df1['math'].sum()"
   ]
  },
  {
   "cell_type": "code",
   "execution_count": 12,
   "id": "a8dfae52",
   "metadata": {},
   "outputs": [
    {
     "data": {
      "text/plain": [
       "57.5"
      ]
     },
     "execution_count": 12,
     "metadata": {},
     "output_type": "execute_result"
    }
   ],
   "source": [
    "# df1에서 컬럼 math의 평균 값 계산\n",
    "df1['math'].sum()/4"
   ]
  },
  {
   "cell_type": "code",
   "execution_count": 13,
   "id": "c97caab4",
   "metadata": {},
   "outputs": [
    {
     "data": {
      "text/plain": [
       "57.5"
      ]
     },
     "execution_count": 13,
     "metadata": {},
     "output_type": "execute_result"
    }
   ],
   "source": [
    "# df1에서 컬럼 math의 평균 값 계산\n",
    "df1['math'].sum()/df1['math'].count()"
   ]
  },
  {
   "cell_type": "code",
   "execution_count": 14,
   "id": "dbd0f6ef",
   "metadata": {},
   "outputs": [
    {
     "data": {
      "text/plain": [
       "57.5"
      ]
     },
     "execution_count": 14,
     "metadata": {},
     "output_type": "execute_result"
    }
   ],
   "source": [
    "# df1에서 컬럼 math의 평균 값 계산\n",
    "df1['math'].mean()"
   ]
  },
  {
   "cell_type": "code",
   "execution_count": 15,
   "id": "4855b6b1",
   "metadata": {},
   "outputs": [
    {
     "data": {
      "text/html": [
       "<div>\n",
       "<style scoped>\n",
       "    .dataframe tbody tr th:only-of-type {\n",
       "        vertical-align: middle;\n",
       "    }\n",
       "\n",
       "    .dataframe tbody tr th {\n",
       "        vertical-align: top;\n",
       "    }\n",
       "\n",
       "    .dataframe thead th {\n",
       "        text-align: right;\n",
       "    }\n",
       "</style>\n",
       "<table border=\"1\" class=\"dataframe\">\n",
       "  <thead>\n",
       "    <tr style=\"text-align: right;\">\n",
       "      <th></th>\n",
       "      <th>math</th>\n",
       "    </tr>\n",
       "  </thead>\n",
       "  <tbody>\n",
       "    <tr>\n",
       "      <th>0</th>\n",
       "      <td>50</td>\n",
       "    </tr>\n",
       "    <tr>\n",
       "      <th>1</th>\n",
       "      <td>60</td>\n",
       "    </tr>\n",
       "    <tr>\n",
       "      <th>2</th>\n",
       "      <td>100</td>\n",
       "    </tr>\n",
       "    <tr>\n",
       "      <th>3</th>\n",
       "      <td>20</td>\n",
       "    </tr>\n",
       "  </tbody>\n",
       "</table>\n",
       "</div>"
      ],
      "text/plain": [
       "   math\n",
       "0    50\n",
       "1    60\n",
       "2   100\n",
       "3    20"
      ]
     },
     "execution_count": 15,
     "metadata": {},
     "output_type": "execute_result"
    }
   ],
   "source": [
    "# 컬럼 math 추출 (Data Frame)\n",
    "s1 = df1[['math']]\n",
    "s1"
   ]
  },
  {
   "cell_type": "code",
   "execution_count": 16,
   "id": "f69c9017",
   "metadata": {},
   "outputs": [
    {
     "data": {
      "text/html": [
       "<div>\n",
       "<style scoped>\n",
       "    .dataframe tbody tr th:only-of-type {\n",
       "        vertical-align: middle;\n",
       "    }\n",
       "\n",
       "    .dataframe tbody tr th {\n",
       "        vertical-align: top;\n",
       "    }\n",
       "\n",
       "    .dataframe thead th {\n",
       "        text-align: right;\n",
       "    }\n",
       "</style>\n",
       "<table border=\"1\" class=\"dataframe\">\n",
       "  <thead>\n",
       "    <tr style=\"text-align: right;\">\n",
       "      <th></th>\n",
       "      <th>english</th>\n",
       "      <th>math</th>\n",
       "    </tr>\n",
       "  </thead>\n",
       "  <tbody>\n",
       "    <tr>\n",
       "      <th>0</th>\n",
       "      <td>90</td>\n",
       "      <td>50</td>\n",
       "    </tr>\n",
       "    <tr>\n",
       "      <th>1</th>\n",
       "      <td>80</td>\n",
       "      <td>60</td>\n",
       "    </tr>\n",
       "    <tr>\n",
       "      <th>2</th>\n",
       "      <td>60</td>\n",
       "      <td>100</td>\n",
       "    </tr>\n",
       "    <tr>\n",
       "      <th>3</th>\n",
       "      <td>70</td>\n",
       "      <td>20</td>\n",
       "    </tr>\n",
       "  </tbody>\n",
       "</table>\n",
       "</div>"
      ],
      "text/plain": [
       "   english  math\n",
       "0       90    50\n",
       "1       80    60\n",
       "2       60   100\n",
       "3       70    20"
      ]
     },
     "execution_count": 16,
     "metadata": {},
     "output_type": "execute_result"
    }
   ],
   "source": [
    "# df1에서 칼럼 english, math 추출 (Data Frame)\n",
    "df1[['english', 'math']]"
   ]
  },
  {
   "cell_type": "code",
   "execution_count": 17,
   "id": "d2ced53d",
   "metadata": {},
   "outputs": [
    {
     "data": {
      "text/html": [
       "<div>\n",
       "<style scoped>\n",
       "    .dataframe tbody tr th:only-of-type {\n",
       "        vertical-align: middle;\n",
       "    }\n",
       "\n",
       "    .dataframe tbody tr th {\n",
       "        vertical-align: top;\n",
       "    }\n",
       "\n",
       "    .dataframe thead th {\n",
       "        text-align: right;\n",
       "    }\n",
       "</style>\n",
       "<table border=\"1\" class=\"dataframe\">\n",
       "  <thead>\n",
       "    <tr style=\"text-align: right;\">\n",
       "      <th></th>\n",
       "      <th>english</th>\n",
       "      <th>math</th>\n",
       "    </tr>\n",
       "  </thead>\n",
       "  <tbody>\n",
       "    <tr>\n",
       "      <th>0</th>\n",
       "      <td>True</td>\n",
       "      <td>False</td>\n",
       "    </tr>\n",
       "    <tr>\n",
       "      <th>1</th>\n",
       "      <td>True</td>\n",
       "      <td>False</td>\n",
       "    </tr>\n",
       "    <tr>\n",
       "      <th>2</th>\n",
       "      <td>False</td>\n",
       "      <td>True</td>\n",
       "    </tr>\n",
       "    <tr>\n",
       "      <th>3</th>\n",
       "      <td>False</td>\n",
       "      <td>False</td>\n",
       "    </tr>\n",
       "  </tbody>\n",
       "</table>\n",
       "</div>"
      ],
      "text/plain": [
       "   english   math\n",
       "0     True  False\n",
       "1     True  False\n",
       "2    False   True\n",
       "3    False  False"
      ]
     },
     "execution_count": 17,
     "metadata": {},
     "output_type": "execute_result"
    }
   ],
   "source": [
    "df1[['english', 'math']] > 70"
   ]
  },
  {
   "cell_type": "code",
   "execution_count": 18,
   "id": "09564607",
   "metadata": {},
   "outputs": [
    {
     "data": {
      "text/plain": [
       "english    2\n",
       "math       1\n",
       "dtype: int64"
      ]
     },
     "execution_count": 18,
     "metadata": {},
     "output_type": "execute_result"
    }
   ],
   "source": [
    "# Daata Frame pd_em에서 칼럼(english, math)별 합 계산\n",
    "# Python에서는 True는 1, False는 0\n",
    "pd_em = df1[['english', 'math']] > 70\n",
    "pd_em.sum()"
   ]
  }
 ],
 "metadata": {
  "kernelspec": {
   "display_name": "Python 3 (ipykernel)",
   "language": "python",
   "name": "python3"
  },
  "language_info": {
   "codemirror_mode": {
    "name": "ipython",
    "version": 3
   },
   "file_extension": ".py",
   "mimetype": "text/x-python",
   "name": "python",
   "nbconvert_exporter": "python",
   "pygments_lexer": "ipython3",
   "version": "3.9.13"
  }
 },
 "nbformat": 4,
 "nbformat_minor": 5
}
