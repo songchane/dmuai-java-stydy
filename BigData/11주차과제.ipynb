{
 "cells": [
  {
   "cell_type": "markdown",
   "id": "5732f175",
   "metadata": {},
   "source": [
    "### 직업별 월급 평균 및 남여 종사자 수 표 만들기 - pivot 활용"
   ]
  },
  {
   "cell_type": "code",
   "execution_count": 16,
   "id": "588a49d7",
   "metadata": {},
   "outputs": [],
   "source": [
    "import pandas as pd\n",
    "import seaborn as sns\n",
    "import numpy as np"
   ]
  },
  {
   "cell_type": "code",
   "execution_count": 17,
   "id": "c39d90cf",
   "metadata": {},
   "outputs": [],
   "source": [
    "welfare_raw = pd.read_spss('Koweps_hpwc14_2019_beta2.sav')\n",
    "welfare = welfare_raw.copy()"
   ]
  },
  {
   "cell_type": "code",
   "execution_count": 18,
   "id": "1aefef82",
   "metadata": {},
   "outputs": [],
   "source": [
    "welfare = welfare.rename(\n",
    "    columns={'h14_g3' : 'sex', \n",
    "             'h14_g4' : 'birth',\n",
    "             'h14_g10': 'marriage_type',\n",
    "             'h14_g11':'religion',\n",
    "             'p1402_8aq1':'income',\n",
    "             'h14_eco9':'code_job',\n",
    "             'h14_reg7':'code_region'}\n",
    ")"
   ]
  },
  {
   "cell_type": "code",
   "execution_count": 19,
   "id": "4ed13616",
   "metadata": {},
   "outputs": [],
   "source": [
    "list_job = pd.read_excel('Koweps_Codebook_2019.xlsx',sheet_name='직종코드')"
   ]
  },
  {
   "cell_type": "code",
   "execution_count": 20,
   "id": "05ee8dae",
   "metadata": {},
   "outputs": [],
   "source": [
    "welfare =welfare.merge(list_job,how='left',on='code_job')"
   ]
  },
  {
   "cell_type": "code",
   "execution_count": 21,
   "id": "92a65b5d",
   "metadata": {},
   "outputs": [],
   "source": [
    "welfare['sex'] = np.where(welfare['sex']==1,'male','female')"
   ]
  },
  {
   "cell_type": "code",
   "execution_count": 22,
   "id": "f9326b9f",
   "metadata": {},
   "outputs": [
    {
     "data": {
      "text/html": [
       "<div>\n",
       "<style scoped>\n",
       "    .dataframe tbody tr th:only-of-type {\n",
       "        vertical-align: middle;\n",
       "    }\n",
       "\n",
       "    .dataframe tbody tr th {\n",
       "        vertical-align: top;\n",
       "    }\n",
       "\n",
       "    .dataframe thead th {\n",
       "        text-align: right;\n",
       "    }\n",
       "</style>\n",
       "<table border=\"1\" class=\"dataframe\">\n",
       "  <thead>\n",
       "    <tr style=\"text-align: right;\">\n",
       "      <th></th>\n",
       "      <th>job</th>\n",
       "      <th>sex</th>\n",
       "      <th>mean_income</th>\n",
       "    </tr>\n",
       "  </thead>\n",
       "  <tbody>\n",
       "    <tr>\n",
       "      <th>0</th>\n",
       "      <td>가사 및 육아 도우미</td>\n",
       "      <td>female</td>\n",
       "      <td>92.970149</td>\n",
       "    </tr>\n",
       "    <tr>\n",
       "      <th>1</th>\n",
       "      <td>가사 및 육아 도우미</td>\n",
       "      <td>male</td>\n",
       "      <td>58.000000</td>\n",
       "    </tr>\n",
       "    <tr>\n",
       "      <th>2</th>\n",
       "      <td>간호사</td>\n",
       "      <td>female</td>\n",
       "      <td>264.985714</td>\n",
       "    </tr>\n",
       "    <tr>\n",
       "      <th>3</th>\n",
       "      <td>간호사</td>\n",
       "      <td>male</td>\n",
       "      <td>270.666667</td>\n",
       "    </tr>\n",
       "    <tr>\n",
       "      <th>4</th>\n",
       "      <td>감정∙기술영업및중개관련종사자</td>\n",
       "      <td>female</td>\n",
       "      <td>496.000000</td>\n",
       "    </tr>\n",
       "  </tbody>\n",
       "</table>\n",
       "</div>"
      ],
      "text/plain": [
       "                job     sex  mean_income\n",
       "0       가사 및 육아 도우미  female    92.970149\n",
       "1       가사 및 육아 도우미    male    58.000000\n",
       "2               간호사  female   264.985714\n",
       "3               간호사    male   270.666667\n",
       "4  감정∙기술영업및중개관련종사자   female   496.000000"
      ]
     },
     "execution_count": 22,
     "metadata": {},
     "output_type": "execute_result"
    }
   ],
   "source": [
    "job_sex_income = welfare.dropna(subset = ['job','income'])\\\n",
    "            .groupby(['job', 'sex'],as_index=False)\\\n",
    "            .agg(mean_income = ('income','mean'))\n",
    "job_sex_income.head()"
   ]
  },
  {
   "cell_type": "code",
   "execution_count": 23,
   "id": "59721151",
   "metadata": {},
   "outputs": [
    {
     "data": {
      "text/html": [
       "<div>\n",
       "<style scoped>\n",
       "    .dataframe tbody tr th:only-of-type {\n",
       "        vertical-align: middle;\n",
       "    }\n",
       "\n",
       "    .dataframe tbody tr th {\n",
       "        vertical-align: top;\n",
       "    }\n",
       "\n",
       "    .dataframe thead th {\n",
       "        text-align: right;\n",
       "    }\n",
       "</style>\n",
       "<table border=\"1\" class=\"dataframe\">\n",
       "  <thead>\n",
       "    <tr style=\"text-align: right;\">\n",
       "      <th>sex</th>\n",
       "      <th>female</th>\n",
       "      <th>male</th>\n",
       "    </tr>\n",
       "    <tr>\n",
       "      <th>job</th>\n",
       "      <th></th>\n",
       "      <th></th>\n",
       "    </tr>\n",
       "  </thead>\n",
       "  <tbody>\n",
       "    <tr>\n",
       "      <th>가사 및 육아 도우미</th>\n",
       "      <td>92.970149</td>\n",
       "      <td>58.000000</td>\n",
       "    </tr>\n",
       "    <tr>\n",
       "      <th>간호사</th>\n",
       "      <td>264.985714</td>\n",
       "      <td>270.666667</td>\n",
       "    </tr>\n",
       "    <tr>\n",
       "      <th>감정∙기술영업및중개관련종사자</th>\n",
       "      <td>496.000000</td>\n",
       "      <td>361.000000</td>\n",
       "    </tr>\n",
       "    <tr>\n",
       "      <th>건물 관리원 및 검표원</th>\n",
       "      <td>197.500000</td>\n",
       "      <td>167.628205</td>\n",
       "    </tr>\n",
       "    <tr>\n",
       "      <th>건설 및 광업 단순 종사자</th>\n",
       "      <td>205.600000</td>\n",
       "      <td>270.028571</td>\n",
       "    </tr>\n",
       "  </tbody>\n",
       "</table>\n",
       "</div>"
      ],
      "text/plain": [
       "sex                   female        male\n",
       "job                                     \n",
       "가사 및 육아 도우미        92.970149   58.000000\n",
       "간호사               264.985714  270.666667\n",
       "감정∙기술영업및중개관련종사자   496.000000  361.000000\n",
       "건물 관리원 및 검표원      197.500000  167.628205\n",
       "건설 및 광업 단순 종사자    205.600000  270.028571"
      ]
     },
     "execution_count": 23,
     "metadata": {},
     "output_type": "execute_result"
    }
   ],
   "source": [
    "pv_job_sex_income = job_sex_income.pivot(index = 'job', columns = 'sex', values = 'mean_income')\n",
    "pv_job_sex_income.head()"
   ]
  }
 ],
 "metadata": {
  "kernelspec": {
   "display_name": "Python 3 (ipykernel)",
   "language": "python",
   "name": "python3"
  },
  "language_info": {
   "codemirror_mode": {
    "name": "ipython",
    "version": 3
   },
   "file_extension": ".py",
   "mimetype": "text/x-python",
   "name": "python",
   "nbconvert_exporter": "python",
   "pygments_lexer": "ipython3",
   "version": "3.9.13"
  }
 },
 "nbformat": 4,
 "nbformat_minor": 5
}
