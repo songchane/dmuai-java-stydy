{
 "cells": [
  {
   "cell_type": "markdown",
   "id": "976d203c",
   "metadata": {},
   "source": [
    "# Lab2 : 데이터 프레임 만들기\n",
    "- 이름은 index로 만들기"
   ]
  },
  {
   "cell_type": "code",
   "execution_count": 1,
   "id": "aa9aaa76",
   "metadata": {},
   "outputs": [],
   "source": [
    "# Pandas를 사용하기 위해서는 pandas 패키지를 로드\n",
    "import pandas as pd"
   ]
  },
  {
   "cell_type": "code",
   "execution_count": 9,
   "id": "12a0e1c6",
   "metadata": {},
   "outputs": [
    {
     "data": {
      "text/html": [
       "<div>\n",
       "<style scoped>\n",
       "    .dataframe tbody tr th:only-of-type {\n",
       "        vertical-align: middle;\n",
       "    }\n",
       "\n",
       "    .dataframe tbody tr th {\n",
       "        vertical-align: top;\n",
       "    }\n",
       "\n",
       "    .dataframe thead th {\n",
       "        text-align: right;\n",
       "    }\n",
       "</style>\n",
       "<table border=\"1\" class=\"dataframe\">\n",
       "  <thead>\n",
       "    <tr style=\"text-align: right;\">\n",
       "      <th></th>\n",
       "      <th>english</th>\n",
       "      <th>math</th>\n",
       "    </tr>\n",
       "  </thead>\n",
       "  <tbody>\n",
       "    <tr>\n",
       "      <th>김기훈</th>\n",
       "      <td>90</td>\n",
       "      <td>50</td>\n",
       "    </tr>\n",
       "    <tr>\n",
       "      <th>이유진</th>\n",
       "      <td>80</td>\n",
       "      <td>60</td>\n",
       "    </tr>\n",
       "    <tr>\n",
       "      <th>빅동현</th>\n",
       "      <td>60</td>\n",
       "      <td>100</td>\n",
       "    </tr>\n",
       "    <tr>\n",
       "      <th>김민지</th>\n",
       "      <td>70</td>\n",
       "      <td>20</td>\n",
       "    </tr>\n",
       "  </tbody>\n",
       "</table>\n",
       "</div>"
      ],
      "text/plain": [
       "      english  math\n",
       "김기훈        90    50\n",
       "이유진        80    60\n",
       " 빅동현       60   100\n",
       "김민지        70    20"
      ]
     },
     "execution_count": 9,
     "metadata": {},
     "output_type": "execute_result"
    }
   ],
   "source": [
    "# Data Frame 생성(컬럼 이름과 인덱스 이름을 명시적으로 지정)\n",
    "df2 = pd.DataFrame([[90, 50], [80, 60], [60, 100], [70, 20]],\n",
    "                  columns = ['english', 'math'],\n",
    "                  index = ['김기훈', '이유진',' 빅동현', '김민지'])\n",
    "df2"
   ]
  },
  {
   "cell_type": "code",
   "execution_count": 10,
   "id": "bd4a7d37",
   "metadata": {},
   "outputs": [
    {
     "data": {
      "text/plain": [
       "Index(['김기훈', '이유진', ' 빅동현', '김민지'], dtype='object')"
      ]
     },
     "execution_count": 10,
     "metadata": {},
     "output_type": "execute_result"
    }
   ],
   "source": [
    "# df2의 index 값 출력\n",
    "df2.index"
   ]
  },
  {
   "cell_type": "code",
   "execution_count": 11,
   "id": "b8d02afb",
   "metadata": {},
   "outputs": [
    {
     "data": {
      "text/plain": [
       "Index(['english', 'math'], dtype='object')"
      ]
     },
     "execution_count": 11,
     "metadata": {},
     "output_type": "execute_result"
    }
   ],
   "source": [
    "# df2의 컬럼 값 출력\n",
    "df2.columns"
   ]
  },
  {
   "cell_type": "code",
   "execution_count": 13,
   "id": "2a08458e",
   "metadata": {},
   "outputs": [
    {
     "data": {
      "text/plain": [
       "array([[ 90,  50],\n",
       "       [ 80,  60],\n",
       "       [ 60, 100],\n",
       "       [ 70,  20]], dtype=int64)"
      ]
     },
     "execution_count": 13,
     "metadata": {},
     "output_type": "execute_result"
    }
   ],
   "source": [
    "# df2의 데이터 값 출력(array)\n",
    "df2.values"
   ]
  },
  {
   "cell_type": "code",
   "execution_count": 14,
   "id": "0de6d0f8",
   "metadata": {},
   "outputs": [
    {
     "data": {
      "text/plain": [
       "57.5"
      ]
     },
     "execution_count": 14,
     "metadata": {},
     "output_type": "execute_result"
    }
   ],
   "source": [
    "# df2의 컬럼 math의 평균 구하기\n",
    "df2['math'].mean()"
   ]
  },
  {
   "cell_type": "code",
   "execution_count": 15,
   "id": "97ac6578",
   "metadata": {},
   "outputs": [
    {
     "data": {
      "text/html": [
       "<div>\n",
       "<style scoped>\n",
       "    .dataframe tbody tr th:only-of-type {\n",
       "        vertical-align: middle;\n",
       "    }\n",
       "\n",
       "    .dataframe tbody tr th {\n",
       "        vertical-align: top;\n",
       "    }\n",
       "\n",
       "    .dataframe thead th {\n",
       "        text-align: right;\n",
       "    }\n",
       "</style>\n",
       "<table border=\"1\" class=\"dataframe\">\n",
       "  <thead>\n",
       "    <tr style=\"text-align: right;\">\n",
       "      <th></th>\n",
       "      <th>english</th>\n",
       "      <th>math</th>\n",
       "    </tr>\n",
       "  </thead>\n",
       "  <tbody>\n",
       "    <tr>\n",
       "      <th>김기훈</th>\n",
       "      <td>True</td>\n",
       "      <td>False</td>\n",
       "    </tr>\n",
       "    <tr>\n",
       "      <th>이유진</th>\n",
       "      <td>True</td>\n",
       "      <td>True</td>\n",
       "    </tr>\n",
       "    <tr>\n",
       "      <th>빅동현</th>\n",
       "      <td>True</td>\n",
       "      <td>True</td>\n",
       "    </tr>\n",
       "    <tr>\n",
       "      <th>김민지</th>\n",
       "      <td>True</td>\n",
       "      <td>False</td>\n",
       "    </tr>\n",
       "  </tbody>\n",
       "</table>\n",
       "</div>"
      ],
      "text/plain": [
       "      english   math\n",
       "김기훈      True  False\n",
       "이유진      True   True\n",
       " 빅동현     True   True\n",
       "김민지      True  False"
      ]
     },
     "execution_count": 15,
     "metadata": {},
     "output_type": "execute_result"
    }
   ],
   "source": [
    "#df2의 컬럼별 값이 50이상 여부 확인 (True, False)\n",
    "df2 > 50"
   ]
  },
  {
   "cell_type": "code",
   "execution_count": 17,
   "id": "c928fe87",
   "metadata": {},
   "outputs": [
    {
     "data": {
      "text/plain": [
       "english    4\n",
       "math       2\n",
       "dtype: int64"
      ]
     },
     "execution_count": 17,
     "metadata": {},
     "output_type": "execute_result"
    }
   ],
   "source": [
    "# True : 1, False : 0\n",
    "(df2 > 50).sum()"
   ]
  }
 ],
 "metadata": {
  "kernelspec": {
   "display_name": "Python 3 (ipykernel)",
   "language": "python",
   "name": "python3"
  },
  "language_info": {
   "codemirror_mode": {
    "name": "ipython",
    "version": 3
   },
   "file_extension": ".py",
   "mimetype": "text/x-python",
   "name": "python",
   "nbconvert_exporter": "python",
   "pygments_lexer": "ipython3",
   "version": "3.9.13"
  }
 },
 "nbformat": 4,
 "nbformat_minor": 5
}
